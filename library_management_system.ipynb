{
 "cells": [
  {
   "cell_type": "code",
   "execution_count": 1,
   "id": "b90857a0-e9f5-4817-a26c-a101d17426ea",
   "metadata": {},
   "outputs": [],
   "source": [
    "id=[]\n",
    "title=[]\n",
    "author=[]\n",
    "available=[]\n",
    "\n",
    "def add_book():\n",
    "    lent=int(input(\"enter the number of add book : \"))\n",
    "    for i in range(lent):\n",
    "        id1=len(id)+1\n",
    "        t=input(f\"enter the {i+1}.book title  : \")\n",
    "        au=input(f\"enter the {i+1}.book author : \")\n",
    "        av=int(input(f\"enter the {i+1}.book available : \"))\n",
    "        id.append(id1)\n",
    "        title.append(t)\n",
    "        author.append(au)\n",
    "        available.append(av)\n",
    "    \n",
    "    "
   ]
  },
  {
   "cell_type": "code",
   "execution_count": 2,
   "id": "bd0de818-cb4a-4d2d-9e9d-aed11f554e35",
   "metadata": {},
   "outputs": [],
   "source": [
    "def display_books():\n",
    "    for i in range(len(id)):\n",
    "        print(f\"ID: {id[i]} | Title: {title[i]} | Author: {author[i]} | Available: {available[i]}\")"
   ]
  },
  {
   "cell_type": "code",
   "execution_count": 3,
   "id": "53056a10-9571-4f6e-8f76-474e5cb35e2d",
   "metadata": {},
   "outputs": [],
   "source": [
    "def scarch_book():\n",
    "    s=input(\"enter your book title : \")\n",
    "    for i in id:\n",
    "        if title[i-1]==s:\n",
    "            print(f\"ID: {id[i-1]} | Title: {title[i-1]} | Author: {author[i-1]} | Available: {available[i-1]}\")"
   ]
  },
  {
   "cell_type": "code",
   "execution_count": 6,
   "id": "a3d51db0-5639-4bda-961f-f3c50fcb1122",
   "metadata": {},
   "outputs": [],
   "source": [
    "def return_book():\n",
    "    s=input(\"enter your book title : \")\n",
    "    for i in id:\n",
    "        if title[i-1]==s:\n",
    "            available[i-1]-=1\n",
    "            "
   ]
  },
  {
   "cell_type": "code",
   "execution_count": null,
   "id": "016a3c51-5e50-4c26-8e44-a6fea6275585",
   "metadata": {},
   "outputs": [],
   "source": [
    "print(\"Library Menu: \\n\")\n",
    "print(\"1. Add Book \")\n",
    "print(\"2. View All Book \")\n",
    "print(\"3. Search Book \")\n",
    "print(\"4. Return Book \")\n",
    "print(\"5. Exit \")\n",
    "while True:\n",
    "    enter=int(input(\"enter choice: \"))\n",
    "    if enter<5 or enter!=0:\n",
    "        while True:\n",
    "             if enter==1:\n",
    "                 add_book()\n",
    "                 break \n",
    "    \n",
    "             elif enter==2:\n",
    "                 display_books()\n",
    "                 break\n",
    "\n",
    "             elif enter==3:\n",
    "                 scarch_book()\n",
    "                 break\n",
    "\n",
    "             elif enter==4:\n",
    "                 return_book()\n",
    "                 break\n",
    "\n",
    "    elif enter==5:\n",
    "        break   \n",
    "\n",
    "    else:\n",
    "        print(\" enter proper element\")\n",
    "\n"
   ]
  },
  {
   "cell_type": "code",
   "execution_count": null,
   "id": "3ac4427a-e3dc-4531-ba1d-b094d5837958",
   "metadata": {},
   "outputs": [],
   "source": []
  },
  {
   "cell_type": "code",
   "execution_count": null,
   "id": "2adf864e-35ba-4c96-8026-ff06207f58f8",
   "metadata": {},
   "outputs": [],
   "source": []
  }
 ],
 "metadata": {
  "kernelspec": {
   "display_name": "Python 3 (ipykernel)",
   "language": "python",
   "name": "python3"
  },
  "language_info": {
   "codemirror_mode": {
    "name": "ipython",
    "version": 3
   },
   "file_extension": ".py",
   "mimetype": "text/x-python",
   "name": "python",
   "nbconvert_exporter": "python",
   "pygments_lexer": "ipython3",
   "version": "3.12.7"
  }
 },
 "nbformat": 4,
 "nbformat_minor": 5
}
